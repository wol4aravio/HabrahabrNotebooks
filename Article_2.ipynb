{
 "cells": [
  {
   "cell_type": "code",
   "execution_count": 110,
   "metadata": {
    "collapsed": true
   },
   "outputs": [],
   "source": [
    "# Notebook for article https://habrahabr.ru/post/328760/"
   ]
  },
  {
   "cell_type": "code",
   "execution_count": 118,
   "metadata": {
    "collapsed": true
   },
   "outputs": [],
   "source": [
    "import pandas as pnd\n",
    "import numpy as nmp\n",
    "from matplotlib import pyplot as plt\n",
    "\n",
    "from sklearn.linear_model import LinearRegression\n",
    "from sklearn.linear_model import Ridge\n",
    "from sklearn.linear_model import Lasso\n",
    "\n",
    "from sklearn.metrics import mean_squared_error"
   ]
  },
  {
   "cell_type": "code",
   "execution_count": 120,
   "metadata": {
    "collapsed": true
   },
   "outputs": [],
   "source": [
    "def generateData(minValue, maxValue, N, dim):\n",
    "    return minValue + nmp.random.rand(N, dim) * (maxValue - minValue)\n",
    "\n",
    "def getCoefficients(text, regressor, X, y):\n",
    "    regressor.fit(X, y)\n",
    "    print(text, regressor.intercept_, regressor.coef_)\n",
    "    print(\"error:\", mean_squared_error(y, regressor.predict(X)))"
   ]
  },
  {
   "cell_type": "code",
   "execution_count": 125,
   "metadata": {
    "collapsed": true
   },
   "outputs": [],
   "source": [
    "N = 100\n",
    "minValue = -10.0\n",
    "maxValue = 10.0\n",
    "\n",
    "alpha_1 = 0.1\n",
    "alpha_2 = 0.5\n",
    "alpha_3 = 0.7"
   ]
  },
  {
   "cell_type": "code",
   "execution_count": 121,
   "metadata": {},
   "outputs": [
    {
     "data": {
      "image/png": "[encoded data removed]",
      "text/plain": [
       "<matplotlib.figure.Figure at 0x25809651cc0>"
      ]
     },
     "metadata": {},
     "output_type": "display_data"
    },
    {
     "name": "stdout",
     "output_type": "stream",
     "text": [
      "Ordinary: 2.0 [ 3.]\n",
      "error: 6.22657773252e-30\n",
      "Ridge for alpha = 0.1: 2.00002085365 [ 2.99989669]\n",
      "error: 3.0991421129e-07\n",
      "Ridge for alpha = 0.5: 2.00010425391 [ 2.99948353]\n",
      "error: 7.74572127596e-06\n",
      "Ridge for alpha = 0.7: 2.00014594543 [ 2.99927699]\n",
      "error: 1.51795230227e-05\n",
      "Lasso for alpha = 0.1: 2.00069514576 [ 2.99655627]\n",
      "error: 0.000344372840962\n",
      "Lasso for alpha = 0.5: 2.00347572878 [ 2.98278136]\n",
      "error: 0.00860932102405\n",
      "Lasso for alpha = 0.7: 2.00486602029 [ 2.9758939]\n",
      "error: 0.0168742692071\n"
     ]
    }
   ],
   "source": [
    "# 1D without noise\n",
    "\n",
    "X = generateData(minValue, maxValue, N, 1)\n",
    "X1 = X[:, 0]\n",
    "Y = 2 + 3 * X1\n",
    "pnd.DataFrame({\"x1\": X1,\n",
    "               \"y\": Y}).to_csv(\"../temp/1D_wo_noise.csv\", index = False)\n",
    "\n",
    "plt.scatter(X1, Y, color = \"blue\")\n",
    "plt.plot([-10, 10], [-28, 32], color = \"red\")\n",
    "plt.show()\n",
    "\n",
    "getCoefficients(\"Ordinary:\", LinearRegression(), X, Y)\n",
    "\n",
    "getCoefficients(\"Ridge for alpha = 0.1:\", Ridge(alpha_1), X, Y)\n",
    "getCoefficients(\"Ridge for alpha = 0.5:\", Ridge(alpha_2), X, Y)\n",
    "getCoefficients(\"Ridge for alpha = 0.7:\", Ridge(alpha_3), X, Y)\n",
    "\n",
    "getCoefficients(\"Lasso for alpha = 0.1:\", Lasso(alpha_1), X, Y)\n",
    "getCoefficients(\"Lasso for alpha = 0.5:\", Lasso(alpha_2), X, Y)\n",
    "getCoefficients(\"Lasso for alpha = 0.7:\", Lasso(alpha_3), X, Y)"
   ]
  },
  {
   "cell_type": "code",
   "execution_count": 122,
   "metadata": {},
   "outputs": [
    {
     "name": "stdout",
     "output_type": "stream",
     "text": [
      "Ordinary: -1.7763568394e-15 [ 1. -2.  3. -4.  5.]\n",
      "error: 8.55693201111e-28\n",
      "Ridge for alpha = 0.1: 0.000215876040206 [ 0.99994083 -1.99994942  2.99996583 -3.99985511  4.99982614]\n",
      "error: 1.71161554857e-06\n",
      "Ridge for alpha = 0.5: 0.00107915625943 [ 0.99970421 -1.99974712  2.99982915 -3.9992757   4.99913083]\n",
      "error: 4.27787025934e-05\n",
      "Ridge for alpha = 0.7: 0.00151066205123 [ 0.99958594 -1.99964598  2.99976079 -3.99898606  4.99878325]\n",
      "error: 8.38348085645e-05\n",
      "Lasso for alpha = 0.1: 0.0043137000802 [ 0.9965019  -1.99730682  2.99866353 -3.99655155  4.99606781]\n",
      "error: 0.00149510012333\n",
      "Lasso for alpha = 0.5: 0.0211426429449 [ 0.98273874 -1.98649773  2.9930903  -3.98289594  4.98039823]\n",
      "error: 0.0372100001127\n",
      "Lasso for alpha = 0.7: 0.0295571143773 [ 0.97585715 -1.98109319  2.99030369 -3.97606813  4.97256344]\n",
      "error: 0.0729086122324\n"
     ]
    }
   ],
   "source": [
    "# 5D without noise\n",
    "\n",
    "X = generateData(minValue, maxValue, N, 5)\n",
    "X1 = X[:, 0]\n",
    "X2 = X[:, 1]\n",
    "X3 = X[:, 2]\n",
    "X4 = X[:, 3]\n",
    "X5 = X[:, 4]\n",
    "Y = X1 - 2 * X2 + 3 * X3 - 4 * X4 + 5 * X5\n",
    "pnd.DataFrame({\"x1\": X1,\n",
    "               \"x2\": X2,\n",
    "               \"x3\": X3,\n",
    "               \"x4\": X4,\n",
    "               \"x5\": X5,\n",
    "               \"y\": Y}).to_csv(\"../temp/5D_wo_noise.csv\", index = False)\n",
    "\n",
    "getCoefficients(\"Ordinary:\", LinearRegression(), X, Y)\n",
    "\n",
    "getCoefficients(\"Ridge for alpha = 0.1:\", Ridge(alpha_1), X, Y)\n",
    "getCoefficients(\"Ridge for alpha = 0.5:\", Ridge(alpha_2), X, Y)\n",
    "getCoefficients(\"Ridge for alpha = 0.7:\", Ridge(alpha_3), X, Y)\n",
    "\n",
    "getCoefficients(\"Lasso for alpha = 0.1:\", Lasso(alpha_1), X, Y)\n",
    "getCoefficients(\"Lasso for alpha = 0.5:\", Lasso(alpha_2), X, Y)\n",
    "getCoefficients(\"Lasso for alpha = 0.7:\", Lasso(alpha_3), X, Y)"
   ]
  },
  {
   "cell_type": "code",
   "execution_count": 123,
   "metadata": {},
   "outputs": [
    {
     "data": {
      "image/png": "[encoded data removed]",
      "text/plain": [
       "<matplotlib.figure.Figure at 0x2580a2e0400>"
      ]
     },
     "metadata": {},
     "output_type": "display_data"
    },
    {
     "name": "stdout",
     "output_type": "stream",
     "text": [
      "Ordinary: 2.50895215815 [ 3.04529866]\n",
      "error: 8.76485532556\n",
      "Ridge for alpha = 0.1: 2.50883485383 [ 3.04519387]\n",
      "error: 8.76485564467\n",
      "Ridge for alpha = 0.5: 2.50836571729 [ 3.04477478]\n",
      "error: 8.76486330102\n",
      "Ridge for alpha = 0.7: 2.50813119744 [ 3.04456528]\n",
      "error: 8.76487095531\n",
      "Lasso for alpha = 0.1: 2.50510004493 [ 3.04185749]\n",
      "error: 8.76519944189\n",
      "Lasso for alpha = 0.5: 2.48969159206 [ 3.02809284]\n",
      "error: 8.77345823388\n",
      "Lasso for alpha = 0.7: 2.48198736563 [ 3.02121051]\n",
      "error: 8.78171702586\n"
     ]
    }
   ],
   "source": [
    "# 1D with noise\n",
    "\n",
    "eps = 5.0\n",
    "noise = generateData(-eps, eps, N, 1)[:, 0]\n",
    "\n",
    "X = generateData(minValue, maxValue, N, 1)\n",
    "X1 = X[:, 0]\n",
    "Y = 2 + 3 * X1 + noise\n",
    "pnd.DataFrame({\"x1\": X1,\n",
    "               \"y\": Y}).to_csv(\"../temp/1D_w_noise.csv\", index = False)\n",
    "plt.scatter(X1, Y, color = \"blue\")\n",
    "plt.plot([-10, 10], [-28, 32], color = \"red\")\n",
    "plt.show()\n",
    "\n",
    "getCoefficients(\"Ordinary:\", LinearRegression(), X, Y)\n",
    "\n",
    "getCoefficients(\"Ridge for alpha = 0.1:\", Ridge(alpha_1), X, Y)\n",
    "getCoefficients(\"Ridge for alpha = 0.5:\", Ridge(alpha_2), X, Y)\n",
    "getCoefficients(\"Ridge for alpha = 0.7:\", Ridge(alpha_3), X, Y)\n",
    "\n",
    "getCoefficients(\"Lasso for alpha = 0.1:\", Lasso(alpha_1), X, Y)\n",
    "getCoefficients(\"Lasso for alpha = 0.5:\", Lasso(alpha_2), X, Y)\n",
    "getCoefficients(\"Lasso for alpha = 0.7:\", Lasso(alpha_3), X, Y)"
   ]
  },
  {
   "cell_type": "code",
   "execution_count": 124,
   "metadata": {},
   "outputs": [
    {
     "name": "stdout",
     "output_type": "stream",
     "text": [
      "Ordinary: 0.260028523918 [ 1.01369955 -1.96207393  2.95260992]\n",
      "error: 7.85766411701\n",
      "Ridge for alpha = 0.1: 0.259884719568 [ 1.01368339 -1.96201529  2.95251366]\n",
      "error: 7.85766453264\n",
      "Ridge for alpha = 0.5: 0.259309588968 [ 1.01361878 -1.96178076  2.95212869]\n",
      "error: 7.85767450523\n",
      "Ridge for alpha = 0.7: 0.259022075738 [ 1.01358648 -1.96166352  2.95193625]\n",
      "error: 7.85768447538\n",
      "Lasso for alpha = 0.1: 0.253445013464 [ 1.01130664 -1.95932713  2.94946339]\n",
      "error: 7.85849270066\n",
      "Lasso for alpha = 0.5: 0.227110322316 [ 1.00173276 -1.94834043  2.93687749]\n",
      "error: 7.87838028212\n",
      "Lasso for alpha = 0.7: 0.213942976742 [ 0.99694582 -1.94284708  2.93058453]\n",
      "error: 7.89826802099\n"
     ]
    }
   ],
   "source": [
    "# 3D with noise\n",
    "\n",
    "eps = 5.0\n",
    "noise = generateData(-eps, eps, N, 1)[:, 0]\n",
    "\n",
    "X = generateData(-10.0, 10.0, 100, 3)\n",
    "X1 = X[:, 0]\n",
    "X2 = X[:, 1]\n",
    "X3 = X[:, 2]\n",
    "Y = X1 - 2 * X2 + 3 * X3 + noise\n",
    "pnd.DataFrame({\"x1\": X1,\n",
    "               \"x2\": X2,\n",
    "               \"x3\": X3,\n",
    "               \"y\": Y}).to_csv(\"../temp/3D_w_noise.csv\", index = False)\n",
    "\n",
    "getCoefficients(\"Ordinary:\", LinearRegression(), X, Y)\n",
    "\n",
    "getCoefficients(\"Ridge for alpha = 0.1:\", Ridge(alpha_1), X, Y)\n",
    "getCoefficients(\"Ridge for alpha = 0.5:\", Ridge(alpha_2), X, Y)\n",
    "getCoefficients(\"Ridge for alpha = 0.7:\", Ridge(alpha_3), X, Y)\n",
    "\n",
    "getCoefficients(\"Lasso for alpha = 0.1:\", Lasso(alpha_1), X, Y)\n",
    "getCoefficients(\"Lasso for alpha = 0.5:\", Lasso(alpha_2), X, Y)\n",
    "getCoefficients(\"Lasso for alpha = 0.7:\", Lasso(alpha_3), X, Y)"
   ]
  }
 ],
 "metadata": {
  "kernelspec": {
   "display_name": "python35",
   "language": "python",
   "name": "python35"
  },
  "language_info": {
   "codemirror_mode": {
    "name": "ipython",
    "version": 3
   },
   "file_extension": ".py",
   "mimetype": "text/x-python",
   "name": "python",
   "nbconvert_exporter": "python",
   "pygments_lexer": "ipython3",
   "version": "3.5.3"
  }
 },
 "nbformat": 4,
 "nbformat_minor": 2
}
