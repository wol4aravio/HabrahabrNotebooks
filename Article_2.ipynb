{
 "cells": [
  {
   "cell_type": "code",
   "execution_count": 65,
   "metadata": {
    "collapsed": true
   },
   "outputs": [],
   "source": [
    "# Notebook for article https://habrahabr.ru/post/328760/"
   ]
  },
  {
   "cell_type": "code",
   "execution_count": 80,
   "metadata": {
    "collapsed": true
   },
   "outputs": [],
   "source": [
    "import pandas as pnd\n",
    "import numpy as nmp\n",
    "from matplotlib import pyplot as plt\n",
    "\n",
    "from sklearn.linear_model import LinearRegression\n",
    "from sklearn.linear_model import Ridge\n",
    "from sklearn.linear_model import Lasso"
   ]
  },
  {
   "cell_type": "code",
   "execution_count": 93,
   "metadata": {
    "collapsed": true
   },
   "outputs": [],
   "source": [
    "def generateData(minValue, maxValue, N, dim):\n",
    "    return minValue + nmp.random.rand(N, dim) * (maxValue - minValue)\n",
    "\n",
    "def getCoefficients(text, regressor, X, y):\n",
    "    regressor.fit(X, y)\n",
    "    print(text, regressor.intercept_, regressor.coef_)"
   ]
  },
  {
   "cell_type": "code",
   "execution_count": 101,
   "metadata": {
    "collapsed": true
   },
   "outputs": [],
   "source": [
    "N = 100\n",
    "minValue = -10.0\n",
    "maxValue = 10.0\n",
    "\n",
    "alpha_1 = 0.1\n",
    "alpha_2 = 0.5\n",
    "alpha_3 = 0.7"
   ]
  },
  {
   "cell_type": "code",
   "execution_count": 104,
   "metadata": {},
   "outputs": [
    {
     "data": {
      "image/png": "[encoded data removed]",
      "text/plain": [
       "<matplotlib.figure.Figure at 0x2580982a208>"
      ]
     },
     "metadata": {},
     "output_type": "display_data"
    },
    {
     "name": "stdout",
     "output_type": "stream",
     "text": [
      "Ordinary: 2.0 [ 3.]\n",
      "Ridge for alpha = 0.1: 1.99995243324 [ 2.99989941]\n",
      "Ridge for alpha = 0.5: 1.99976219808 [ 2.9994971]\n",
      "Ridge for alpha = 0.7: 1.99966709963 [ 2.99929599]\n",
      "Lasso for alpha = 0.1: 1.99841438803 [ 2.99664679]\n",
      "Lasso for alpha = 0.5: 1.99207194017 [ 2.98323396]\n",
      "Lasso for alpha = 0.7: 1.98890071624 [ 2.97652755]\n"
     ]
    }
   ],
   "source": [
    "# 1D without noise\n",
    "\n",
    "X = generateData(minValue, maxValue, N, 1)\n",
    "X1 = X[:, 0]\n",
    "Y = 2 + 3 * X1\n",
    "pnd.DataFrame({\"x1\": X1,\n",
    "               \"x2\": X2,\n",
    "               \"y\": Y}).to_csv(\"../temp/1D_wo_noise.csv\", index = False)\n",
    "\n",
    "plt.scatter(X1, Y, color = \"blue\")\n",
    "plt.plot([-10, 10], [-28, 32], color = \"red\")\n",
    "plt.show()\n",
    "\n",
    "getCoefficients(\"Ordinary:\", LinearRegression(), X, Y)\n",
    "\n",
    "getCoefficients(\"Ridge for alpha = 0.1:\", Ridge(alpha_1), X, Y)\n",
    "getCoefficients(\"Ridge for alpha = 0.5:\", Ridge(alpha_2), X, Y)\n",
    "getCoefficients(\"Ridge for alpha = 0.7:\", Ridge(alpha_3), X, Y)\n",
    "\n",
    "getCoefficients(\"Lasso for alpha = 0.1:\", Lasso(alpha_1), X, Y)\n",
    "getCoefficients(\"Lasso for alpha = 0.5:\", Lasso(alpha_2), X, Y)\n",
    "getCoefficients(\"Lasso for alpha = 0.7:\", Lasso(alpha_3), X, Y)"
   ]
  },
  {
   "cell_type": "code",
   "execution_count": 106,
   "metadata": {},
   "outputs": [
    {
     "name": "stdout",
     "output_type": "stream",
     "text": [
      "Ordinary: 5.99520433298e-15 [ 1. -2.  3. -4.  5.]\n",
      "Ridge for alpha = 0.1: -5.4263922433e-05 [ 0.9999543  -1.99995686  2.99993117 -3.99986719  4.99986806]\n",
      "Ridge for alpha = 0.5: -0.000271279294377 [ 0.99977154 -1.99978432  2.99965587 -3.99933604  4.99934039]\n",
      "Ridge for alpha = 0.7: -0.000379762796324 [ 0.99968018 -1.99969806  2.99951823 -3.99907052  4.9990766 ]\n",
      "Lasso for alpha = 0.1: 4.2983746068e-05 [ 0.99641415 -1.99738295  2.99728559 -3.99691326  4.99742189]\n",
      "Lasso for alpha = 0.5: 0.00032891039745 [ 0.98213892 -1.9868197   2.98635429 -3.98457531  4.98713717]\n",
      "Lasso for alpha = 0.7: 0.00047187372314 [ 0.97500131 -1.98153808  2.98088864 -3.97840634  4.98199481]\n"
     ]
    }
   ],
   "source": [
    "# 5D without noise\n",
    "\n",
    "X = generateData(minValue, maxValue, N, 5)\n",
    "X1 = X[:, 0]\n",
    "X2 = X[:, 1]\n",
    "X3 = X[:, 2]\n",
    "X4 = X[:, 3]\n",
    "X5 = X[:, 4]\n",
    "Y = X1 - 2 * X2 + 3 * X3 - 4 * X4 + 5 * X5\n",
    "pnd.DataFrame({\"x1\": X1,\n",
    "               \"x2\": X2,\n",
    "               \"x3\": X3,\n",
    "               \"x4\": X4,\n",
    "               \"x5\": X5,\n",
    "               \"y\": Y}).to_csv(\"../temp/5D_wo_noise.csv\", index = False)\n",
    "\n",
    "getCoefficients(\"Ordinary:\", LinearRegression(), X, Y)\n",
    "\n",
    "getCoefficients(\"Ridge for alpha = 0.1:\", Ridge(alpha_1), X, Y)\n",
    "getCoefficients(\"Ridge for alpha = 0.5:\", Ridge(alpha_2), X, Y)\n",
    "getCoefficients(\"Ridge for alpha = 0.7:\", Ridge(alpha_3), X, Y)\n",
    "\n",
    "getCoefficients(\"Lasso for alpha = 0.1:\", Lasso(alpha_1), X, Y)\n",
    "getCoefficients(\"Lasso for alpha = 0.5:\", Lasso(alpha_2), X, Y)\n",
    "getCoefficients(\"Lasso for alpha = 0.7:\", Lasso(alpha_3), X, Y)"
   ]
  },
  {
   "cell_type": "code",
   "execution_count": 107,
   "metadata": {},
   "outputs": [
    {
     "data": {
      "image/png": "[encoded data removed]",
      "text/plain": [
       "<matplotlib.figure.Figure at 0x2580a28a160>"
      ]
     },
     "metadata": {},
     "output_type": "display_data"
    },
    {
     "name": "stdout",
     "output_type": "stream",
     "text": [
      "Ordinary: 1.64222061548 [ 2.92871114]\n",
      "Ridge for alpha = 0.1: 1.64216183868 [ 2.92862204]\n",
      "Ridge for alpha = 0.5: 1.64192676725 [ 2.92826569]\n",
      "Ridge for alpha = 0.7: 1.64180925298 [ 2.92808755]\n",
      "Lasso for alpha = 0.1: 1.64021363754 [ 2.92566876]\n",
      "Lasso for alpha = 0.5: 1.63218572576 [ 2.91349925]\n",
      "Lasso for alpha = 0.7: 1.62817176987 [ 2.9074145]\n"
     ]
    }
   ],
   "source": [
    "# 1D with noise\n",
    "\n",
    "eps = 5.0\n",
    "noise = generateData(-eps, eps, N, 1)[:, 0]\n",
    "\n",
    "X = generateData(minValue, maxValue, N, 1)\n",
    "X1 = X[:, 0]\n",
    "Y = 2 + 3 * X1 + noise\n",
    "pnd.DataFrame({\"x1\": X1,\n",
    "               \"y\": Y}).to_csv(\"../temp/1D_w_noise.csv\", index = False)\n",
    "plt.scatter(X1, Y, color = \"blue\")\n",
    "plt.plot([-10, 10], [-28, 32], color = \"red\")\n",
    "plt.show()\n",
    "\n",
    "getCoefficients(\"Ordinary:\", LinearRegression(), X, Y)\n",
    "\n",
    "getCoefficients(\"Ridge for alpha = 0.1:\", Ridge(alpha_1), X, Y)\n",
    "getCoefficients(\"Ridge for alpha = 0.5:\", Ridge(alpha_2), X, Y)\n",
    "getCoefficients(\"Ridge for alpha = 0.7:\", Ridge(alpha_3), X, Y)\n",
    "\n",
    "getCoefficients(\"Lasso for alpha = 0.1:\", Lasso(alpha_1), X, Y)\n",
    "getCoefficients(\"Lasso for alpha = 0.5:\", Lasso(alpha_2), X, Y)\n",
    "getCoefficients(\"Lasso for alpha = 0.7:\", Lasso(alpha_3), X, Y)"
   ]
  },
  {
   "cell_type": "code",
   "execution_count": 109,
   "metadata": {},
   "outputs": [
    {
     "name": "stdout",
     "output_type": "stream",
     "text": [
      "Ordinary: -0.00469460828851 [ 0.96584873 -1.96454957  2.94846467]\n",
      "Ridge for alpha = 0.1: -0.00467572446097 [ 0.96580235 -1.96449234  2.94837802]\n",
      "Ridge for alpha = 0.5: -0.00460019355961 [ 0.96561687 -1.96426348  2.9480315 ]\n",
      "Ridge for alpha = 0.7: -0.00456243075461 [ 0.96552415 -1.96414907  2.94785826]\n",
      "Lasso for alpha = 0.1: -0.00472547417771 [ 0.9619286  -1.9615364   2.94530346]\n",
      "Lasso for alpha = 0.5: -0.00483801546098 [ 0.94626135 -1.94947577  2.93266078]\n",
      "Lasso for alpha = 0.7: -0.00489428610262 [ 0.93842772 -1.94344546  2.92633944]\n"
     ]
    }
   ],
   "source": [
    "# 3D with noise\n",
    "\n",
    "eps = 5.0\n",
    "noise = generateData(-eps, eps, N, 1)[:, 0]\n",
    "\n",
    "X = generateData(-10.0, 10.0, 100, 3)\n",
    "X1 = X[:, 0]\n",
    "X2 = X[:, 1]\n",
    "X3 = X[:, 2]\n",
    "Y = X1 - 2 * X2 + 3 * X3 + noise\n",
    "pnd.DataFrame({\"x1\": X1,\n",
    "               \"x2\": X2,\n",
    "               \"x3\": X3,\n",
    "               \"y\": Y}).to_csv(\"../temp/3D_w_noise.csv\", index = False)\n",
    "\n",
    "getCoefficients(\"Ordinary:\", LinearRegression(), X, Y)\n",
    "\n",
    "getCoefficients(\"Ridge for alpha = 0.1:\", Ridge(alpha_1), X, Y)\n",
    "getCoefficients(\"Ridge for alpha = 0.5:\", Ridge(alpha_2), X, Y)\n",
    "getCoefficients(\"Ridge for alpha = 0.7:\", Ridge(alpha_3), X, Y)\n",
    "\n",
    "getCoefficients(\"Lasso for alpha = 0.1:\", Lasso(alpha_1), X, Y)\n",
    "getCoefficients(\"Lasso for alpha = 0.5:\", Lasso(alpha_2), X, Y)\n",
    "getCoefficients(\"Lasso for alpha = 0.7:\", Lasso(alpha_3), X, Y)"
   ]
  }
 ],
 "metadata": {
  "kernelspec": {
   "display_name": "python35",
   "language": "python",
   "name": "python35"
  },
  "language_info": {
   "codemirror_mode": {
    "name": "ipython",
    "version": 3
   },
   "file_extension": ".py",
   "mimetype": "text/x-python",
   "name": "python",
   "nbconvert_exporter": "python",
   "pygments_lexer": "ipython3",
   "version": "3.5.3"
  }
 },
 "nbformat": 4,
 "nbformat_minor": 2
}
