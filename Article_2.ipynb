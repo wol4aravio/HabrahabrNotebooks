{
 "cells": [
  {
   "cell_type": "code",
   "execution_count": 65,
   "metadata": {
    "collapsed": true
   },
   "outputs": [],
   "source": [
    "# Notebook for article https://habrahabr.ru/post/328760/"
   ]
  },
  {
   "cell_type": "code",
   "execution_count": 73,
   "metadata": {
    "collapsed": true
   },
   "outputs": [],
   "source": [
    "import pandas as pnd\n",
    "import numpy as nmp\n",
    "from matplotlib import pyplot as plt"
   ]
  },
  {
   "cell_type": "code",
   "execution_count": 74,
   "metadata": {
    "collapsed": true
   },
   "outputs": [],
   "source": [
    "def generateData(minValue, maxValue, N, dim):\n",
    "    return minValue + nmp.random.rand(N, dim) * (maxValue - minValue)"
   ]
  },
  {
   "cell_type": "code",
   "execution_count": 75,
   "metadata": {
    "collapsed": true
   },
   "outputs": [],
   "source": [
    "N = 100\n",
    "minValue = -10.0\n",
    "maxValue = 10.0"
   ]
  },
  {
   "cell_type": "code",
   "execution_count": 76,
   "metadata": {},
   "outputs": [
    {
     "data": {
      "image/png": "[encoded data removed]",
      "text/plain": [
       "<matplotlib.figure.Figure at 0x258095b0e48>"
      ]
     },
     "metadata": {},
     "output_type": "display_data"
    }
   ],
   "source": [
    "# 1D without noise\n",
    "\n",
    "X = generateData(minValue, maxValue, N, 1)\n",
    "X1 = X[:, 0]\n",
    "Y = 2 + 3 * X1\n",
    "pnd.DataFrame({\"x1\": X1,\n",
    "               \"x2\": X2,\n",
    "               \"y\": Y}).to_csv(\"../temp/1D_wo_noise.csv\", index = False)\n",
    "\n",
    "plt.scatter(X1, Y, color = \"blue\")\n",
    "plt.plot([-10, 10], [-28, 32], color = \"red\")\n",
    "plt.show()"
   ]
  },
  {
   "cell_type": "code",
   "execution_count": 77,
   "metadata": {},
   "outputs": [],
   "source": [
    "# 5D without noise\n",
    "\n",
    "X = generateData(minValue, maxValue, N, 5)\n",
    "X1 = X[:, 0]\n",
    "X2 = X[:, 1]\n",
    "X3 = X[:, 2]\n",
    "X4 = X[:, 3]\n",
    "X5 = X[:, 4]\n",
    "Y = X1 + 2 * X2 - 3 * X3 + 4 * X4 - 5 * X5\n",
    "pnd.DataFrame({\"x1\": X1,\n",
    "               \"x2\": X2,\n",
    "               \"x3\": X3,\n",
    "               \"x4\": X4,\n",
    "               \"x5\": X5,\n",
    "               \"y\": Y}).to_csv(\"../temp/5D_wo_noise.csv\", index = False)"
   ]
  },
  {
   "cell_type": "code",
   "execution_count": 78,
   "metadata": {},
   "outputs": [
    {
     "data": {
      "image/png": "[encoded data removed]",
      "text/plain": [
       "<matplotlib.figure.Figure at 0x2580971f5f8>"
      ]
     },
     "metadata": {},
     "output_type": "display_data"
    }
   ],
   "source": [
    "# 1D with noise\n",
    "\n",
    "eps = 5.0\n",
    "noise = generateData(-eps, eps, N, 1)[:, 0]\n",
    "\n",
    "X = generateData(minValue, maxValue, N, 1)\n",
    "X1 = X[:, 0]\n",
    "Y = 2 + 3 * X1 + noise\n",
    "pnd.DataFrame({\"x1\": X1,\n",
    "               \"y\": Y}).to_csv(\"../temp/1D_w_noise.csv\", index = False)\n",
    "plt.scatter(X1, Y, color = \"blue\")\n",
    "plt.plot([-10, 10], [-28, 32], color = \"red\")\n",
    "plt.show()"
   ]
  },
  {
   "cell_type": "code",
   "execution_count": 79,
   "metadata": {
    "collapsed": true
   },
   "outputs": [],
   "source": [
    "# 3D with noise\n",
    "\n",
    "eps = 5.0\n",
    "noise = generateData(-eps, eps, N, 1)[:, 0]\n",
    "\n",
    "X = generateData(-10.0, 10.0, 100, 5)\n",
    "X1 = X[:, 0]\n",
    "X2 = X[:, 1]\n",
    "X3 = X[:, 2]\n",
    "Y = X1 + 2 * X2 - 3 * X3 + 4 * X4 - 5 * X5 + noise\n",
    "pnd.DataFrame({\"x1\": X1,\n",
    "               \"x2\": X2,\n",
    "               \"x3\": X3,\n",
    "               \"y\": Y}).to_csv(\"../temp/3D_w_noise.csv\", index = False)"
   ]
  },
  {
   "cell_type": "code",
   "execution_count": null,
   "metadata": {
    "collapsed": true
   },
   "outputs": [],
   "source": []
  },
  {
   "cell_type": "code",
   "execution_count": null,
   "metadata": {
    "collapsed": true
   },
   "outputs": [],
   "source": []
  },
  {
   "cell_type": "code",
   "execution_count": null,
   "metadata": {
    "collapsed": true
   },
   "outputs": [],
   "source": []
  },
  {
   "cell_type": "code",
   "execution_count": null,
   "metadata": {
    "collapsed": true
   },
   "outputs": [],
   "source": []
  },
  {
   "cell_type": "code",
   "execution_count": null,
   "metadata": {
    "collapsed": true
   },
   "outputs": [],
   "source": []
  },
  {
   "cell_type": "code",
   "execution_count": null,
   "metadata": {
    "collapsed": true
   },
   "outputs": [],
   "source": []
  },
  {
   "cell_type": "code",
   "execution_count": null,
   "metadata": {
    "collapsed": true
   },
   "outputs": [],
   "source": []
  },
  {
   "cell_type": "code",
   "execution_count": null,
   "metadata": {
    "collapsed": true
   },
   "outputs": [],
   "source": []
  },
  {
   "cell_type": "code",
   "execution_count": null,
   "metadata": {
    "collapsed": true
   },
   "outputs": [],
   "source": []
  },
  {
   "cell_type": "code",
   "execution_count": 46,
   "metadata": {
    "collapsed": true
   },
   "outputs": [],
   "source": [
    "?plt.plot"
   ]
  },
  {
   "cell_type": "code",
   "execution_count": null,
   "metadata": {
    "collapsed": true
   },
   "outputs": [],
   "source": []
  },
  {
   "cell_type": "code",
   "execution_count": null,
   "metadata": {
    "collapsed": true
   },
   "outputs": [],
   "source": []
  },
  {
   "cell_type": "code",
   "execution_count": null,
   "metadata": {
    "collapsed": true
   },
   "outputs": [],
   "source": []
  }
 ],
 "metadata": {
  "kernelspec": {
   "display_name": "python35",
   "language": "python",
   "name": "python35"
  },
  "language_info": {
   "codemirror_mode": {
    "name": "ipython",
    "version": 3
   },
   "file_extension": ".py",
   "mimetype": "text/x-python",
   "name": "python",
   "nbconvert_exporter": "python",
   "pygments_lexer": "ipython3",
   "version": "3.5.3"
  }
 },
 "nbformat": 4,
 "nbformat_minor": 2
}
