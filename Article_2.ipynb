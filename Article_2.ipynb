{
 "cells": [
  {
   "cell_type": "code",
   "execution_count": 5,
   "metadata": {
    "collapsed": true
   },
   "outputs": [],
   "source": [
    "# Notebook for article https://habrahabr.ru/post/328760/"
   ]
  },
  {
   "cell_type": "code",
   "execution_count": 6,
   "metadata": {
    "collapsed": true
   },
   "outputs": [],
   "source": [
    "import pandas as pnd\n",
    "import numpy as nmp\n",
    "from matplotlib import pyplot as plt\n",
    "\n",
    "from sklearn.linear_model import LinearRegression\n",
    "from sklearn.linear_model import Ridge\n",
    "from sklearn.linear_model import Lasso\n",
    "\n",
    "from sklearn.metrics import mean_squared_error"
   ]
  },
  {
   "cell_type": "code",
   "execution_count": 7,
   "metadata": {
    "collapsed": true
   },
   "outputs": [],
   "source": [
    "def generateData(minValue, maxValue, N, dim):\n",
    "    return minValue + nmp.random.rand(N, dim) * (maxValue - minValue)\n",
    "\n",
    "def getCoefficients(text, regressor, X, y):\n",
    "    regressor.fit(X, y)\n",
    "    print(text, regressor.intercept_, regressor.coef_)\n",
    "    print(\"error:\", mean_squared_error(y, regressor.predict(X)))"
   ]
  },
  {
   "cell_type": "code",
   "execution_count": 8,
   "metadata": {
    "collapsed": true
   },
   "outputs": [],
   "source": [
    "N = 100\n",
    "minValue = -10.0\n",
    "maxValue = 10.0\n",
    "\n",
    "alpha = 0.7"
   ]
  },
  {
   "cell_type": "code",
   "execution_count": 9,
   "metadata": {},
   "outputs": [
    {
     "data": {
      "image/png": "[encoded data removed]",
      "text/plain": [
       "<matplotlib.figure.Figure at 0x20a353cdac8>"
      ]
     },
     "metadata": {},
     "output_type": "display_data"
    },
    {
     "name": "stdout",
     "output_type": "stream",
     "text": [
      "Ordinary: 2.0 [ 3.]\n",
      "error: 5.3642541555e-31\n",
      "Ridge for alpha = 0.7: 2.00009364939 [ 2.99933672]\n",
      "error: 1.39258631864e-05\n",
      "Lasso for alpha = 0.7: 2.00312233664 [ 2.97788568]\n",
      "error: 0.0154800256533\n"
     ]
    }
   ],
   "source": [
    "# 1D without noise\n",
    "\n",
    "nmp.random.seed(17091992)\n",
    "\n",
    "X = generateData(minValue, maxValue, N, 1)\n",
    "X1 = X[:, 0]\n",
    "Y = 2 + 3 * X1\n",
    "pnd.DataFrame({\"x1\": X1,\n",
    "               \"y\": Y}).to_csv(\"../temp/1D_wo_noise.csv\", index = False)\n",
    "\n",
    "plt.scatter(X1, Y, color = \"blue\")\n",
    "plt.plot([-10, 10], [-28, 32], color = \"red\")\n",
    "plt.show()\n",
    "\n",
    "getCoefficients(\"Ordinary:\", LinearRegression(), X, Y)\n",
    "getCoefficients(\"Ridge for alpha = 0.7:\", Ridge(alpha), X, Y)\n",
    "getCoefficients(\"Lasso for alpha = 0.7:\", Lasso(alpha), X, Y)"
   ]
  },
  {
   "cell_type": "code",
   "execution_count": 10,
   "metadata": {},
   "outputs": [
    {
     "name": "stdout",
     "output_type": "stream",
     "text": [
      "Ordinary: 4.4408920985e-16 [ 1. -2.  3. -4.  5.]\n",
      "error: 1.13795354946e-27\n",
      "Ridge for alpha = 0.7: 0.000401607943116 [ 0.99960838 -1.99957428  2.99928537 -3.99928026  4.99887621]\n",
      "error: 8.31756941033e-05\n",
      "Lasso for alpha = 0.7: 0.0130751114155 [ 0.97296114 -1.97953117  2.97903533 -3.98190095  4.97312897]\n",
      "error: 0.0794065287839\n"
     ]
    }
   ],
   "source": [
    "# 5D without noise\n",
    "\n",
    "nmp.random.seed(17091992)\n",
    "\n",
    "X = generateData(minValue, maxValue, N, 5)\n",
    "X1 = X[:, 0]\n",
    "X2 = X[:, 1]\n",
    "X3 = X[:, 2]\n",
    "X4 = X[:, 3]\n",
    "X5 = X[:, 4]\n",
    "Y = X1 - 2 * X2 + 3 * X3 - 4 * X4 + 5 * X5\n",
    "pnd.DataFrame({\"x1\": X1,\n",
    "               \"x2\": X2,\n",
    "               \"x3\": X3,\n",
    "               \"x4\": X4,\n",
    "               \"x5\": X5,\n",
    "               \"y\": Y}).to_csv(\"../temp/5D_wo_noise.csv\", index = False)\n",
    "\n",
    "getCoefficients(\"Ordinary:\", LinearRegression(), X, Y)\n",
    "getCoefficients(\"Ridge for alpha = 0.7:\", Ridge(alpha), X, Y)\n",
    "getCoefficients(\"Lasso for alpha = 0.7:\", Lasso(alpha), X, Y)"
   ]
  },
  {
   "cell_type": "code",
   "execution_count": 12,
   "metadata": {},
   "outputs": [
    {
     "data": {
      "image/png": "[encoded data removed]",
      "text/plain": [
       "<matplotlib.figure.Figure at 0x20a3104d048>"
      ]
     },
     "metadata": {},
     "output_type": "display_data"
    },
    {
     "name": "stdout",
     "output_type": "stream",
     "text": [
      "Ordinary: 2.11782397958 [ 3.06236779]\n",
      "error: 7.79978026054\n",
      "Ridge for alpha = 0.7: 2.11726849351 [ 3.06163425]\n",
      "error: 7.79979598151\n",
      "Lasso for alpha = 0.7: 2.09968052979 [ 3.03840845]\n",
      "error: 7.81655180062\n"
     ]
    }
   ],
   "source": [
    "# 1D with noise\n",
    "\n",
    "nmp.random.seed(17091992)\n",
    "\n",
    "eps = 5.0\n",
    "noise = generateData(-eps, eps, N, 1)[:, 0]\n",
    "\n",
    "X = generateData(minValue, maxValue, N, 1)\n",
    "X1 = X[:, 0]\n",
    "Y = 2 + 3 * X1 + noise\n",
    "pnd.DataFrame({\"x1\": X1,\n",
    "               \"y\": Y}).to_csv(\"../temp/1D_w_noise.csv\", index = False)\n",
    "plt.scatter(X1, Y, color = \"blue\")\n",
    "plt.plot([-10, 10], [-28, 32], color = \"red\")\n",
    "plt.show()\n",
    "\n",
    "getCoefficients(\"Ordinary:\", LinearRegression(), X, Y)\n",
    "getCoefficients(\"Ridge for alpha = 0.7:\", Ridge(alpha), X, Y)\n",
    "getCoefficients(\"Lasso for alpha = 0.7:\", Lasso(alpha), X, Y)"
   ]
  },
  {
   "cell_type": "code",
   "execution_count": 13,
   "metadata": {},
   "outputs": [
    {
     "name": "stdout",
     "output_type": "stream",
     "text": [
      "Ordinary: -0.0713061674934 [ 0.88248913 -2.00381902  2.94674983]\n",
      "error: 7.48216199159\n",
      "Ridge for alpha = 0.7: -0.0717581588853 [ 0.88223814 -2.00335263  2.94602959]\n",
      "error: 7.48218493508\n",
      "Lasso for alpha = 0.7: -0.0968768865025 [ 0.85549841 -1.98187142  2.92095894]\n",
      "error: 7.53447248455\n"
     ]
    }
   ],
   "source": [
    "# 3D with noise\n",
    "\n",
    "nmp.random.seed(17091992)\n",
    "\n",
    "eps = 5.0\n",
    "noise = generateData(-eps, eps, N, 1)[:, 0]\n",
    "\n",
    "X = generateData(-10.0, 10.0, 100, 3)\n",
    "X1 = X[:, 0]\n",
    "X2 = X[:, 1]\n",
    "X3 = X[:, 2]\n",
    "Y = X1 - 2 * X2 + 3 * X3 + noise\n",
    "pnd.DataFrame({\"x1\": X1,\n",
    "               \"x2\": X2,\n",
    "               \"x3\": X3,\n",
    "               \"y\": Y}).to_csv(\"../temp/3D_w_noise.csv\", index = False)\n",
    "\n",
    "getCoefficients(\"Ordinary:\", LinearRegression(), X, Y)\n",
    "getCoefficients(\"Ridge for alpha = 0.7:\", Ridge(alpha), X, Y)\n",
    "getCoefficients(\"Lasso for alpha = 0.7:\", Lasso(alpha), X, Y)"
   ]
  }
 ],
 "metadata": {
  "kernelspec": {
   "display_name": "python35",
   "language": "python",
   "name": "python35"
  },
  "language_info": {
   "codemirror_mode": {
    "name": "ipython",
    "version": 3
   },
   "file_extension": ".py",
   "mimetype": "text/x-python",
   "name": "python",
   "nbconvert_exporter": "python",
   "pygments_lexer": "ipython3",
   "version": "3.5.3"
  }
 },
 "nbformat": 4,
 "nbformat_minor": 2
}
